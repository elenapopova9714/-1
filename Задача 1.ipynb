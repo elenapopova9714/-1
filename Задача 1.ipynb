{
 "cells": [
  {
   "cell_type": "code",
   "execution_count": 1,
   "metadata": {
    "scrolled": true
   },
   "outputs": [
    {
     "name": "stdout",
     "output_type": "stream",
     "text": [
      "num = 9669\n",
      "9969\n"
     ]
    }
   ],
   "source": [
    "x = list(input(\"num = \"))\n",
    "if x.count('6')>0:\n",
    "    x.insert(x.index('6'), '9')\n",
    "    x.remove('6')\n",
    "print(\"\".join(str(i) for i in x)) "
   ]
  },
  {
   "cell_type": "code",
   "execution_count": 3,
   "metadata": {},
   "outputs": [],
   "source": [
    "def twist (A):\n",
    "    x = list(A)\n",
    "    if x.count('6')>0:\n",
    "        x.insert(x.index('6'), '9')\n",
    "        x.remove('6')\n",
    "    print(\"\".join(str(i) for i in x))"
   ]
  },
  {
   "cell_type": "code",
   "execution_count": 4,
   "metadata": {},
   "outputs": [
    {
     "name": "stdout",
     "output_type": "stream",
     "text": [
      "9969\n",
      "9999\n",
      "9999\n"
     ]
    }
   ],
   "source": [
    "twist (\"9669\")\n",
    "twist (\"9996\")\n",
    "twist (\"9999\")"
   ]
  }
 ],
 "metadata": {
  "kernelspec": {
   "display_name": "Python 3",
   "language": "python",
   "name": "python3"
  },
  "language_info": {
   "codemirror_mode": {
    "name": "ipython",
    "version": 3
   },
   "file_extension": ".py",
   "mimetype": "text/x-python",
   "name": "python",
   "nbconvert_exporter": "python",
   "pygments_lexer": "ipython3",
   "version": "3.8.3"
  }
 },
 "nbformat": 4,
 "nbformat_minor": 4
}
