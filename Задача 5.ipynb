{
 "cells": [
  {
   "cell_type": "code",
   "execution_count": 13,
   "metadata": {},
   "outputs": [
    {
     "name": "stdout",
     "output_type": "stream",
     "text": [
      "2727936\n"
     ]
    }
   ],
   "source": [
    "import os\n",
    "def CountSize(path):\n",
    "    size = 0\n",
    "    dirs = os.listdir(path)\n",
    "    for file in dirs:\n",
    "        size += os.path.getsize(path)\n",
    "    print(size)\n",
    "F = 'C://Windows/'\n",
    "CountSize(F)"
   ]
  }
 ],
 "metadata": {
  "kernelspec": {
   "display_name": "Python 3",
   "language": "python",
   "name": "python3"
  },
  "language_info": {
   "codemirror_mode": {
    "name": "ipython",
    "version": 3
   },
   "file_extension": ".py",
   "mimetype": "text/x-python",
   "name": "python",
   "nbconvert_exporter": "python",
   "pygments_lexer": "ipython3",
   "version": "3.8.3"
  }
 },
 "nbformat": 4,
 "nbformat_minor": 4
}
